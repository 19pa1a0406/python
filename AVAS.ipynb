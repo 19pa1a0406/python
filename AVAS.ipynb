{
  "nbformat": 4,
  "nbformat_minor": 0,
  "metadata": {
    "colab": {
      "name": "AVAS.ipynb",
      "provenance": [],
      "authorship_tag": "ABX9TyPMbgBuIrUS4X3RgB2tQ7Ih",
      "include_colab_link": true
    },
    "kernelspec": {
      "name": "python3",
      "display_name": "Python 3"
    }
  },
  "cells": [
    {
      "cell_type": "markdown",
      "metadata": {
        "id": "view-in-github",
        "colab_type": "text"
      },
      "source": [
        "<a href=\"https://colab.research.google.com/github/19pa1a0406/python/blob/master/AVAS.ipynb\" target=\"_parent\"><img src=\"https://colab.research.google.com/assets/colab-badge.svg\" alt=\"Open In Colab\"/></a>"
      ]
    },
    {
      "cell_type": "markdown",
      "metadata": {
        "id": "UVTT6sMgs6SQ",
        "colab_type": "text"
      },
      "source": [
        "19PA1A0406 19PA1A0450, 19PA1A0454,19PA1A0436"
      ]
    },
    {
      "cell_type": "code",
      "metadata": {
        "id": "B57vknqsnzSD",
        "colab_type": "code",
        "colab": {}
      },
      "source": [
        "import pandas as pd\n",
        "import numpy as np\n",
        "import matplotlib.pyplot as plt"
      ],
      "execution_count": 0,
      "outputs": []
    },
    {
      "cell_type": "code",
      "metadata": {
        "id": "tbpwJYAdoHxu",
        "colab_type": "code",
        "outputId": "c9e1aed5-2b2d-408c-fdbc-ba599d3391b0",
        "colab": {
          "base_uri": "https://localhost:8080/",
          "height": 87
        }
      },
      "source": [
        "si=pd.read_csv(\"dataset.csv\")\n",
        "si.columns"
      ],
      "execution_count": 0,
      "outputs": [
        {
          "output_type": "execute_result",
          "data": {
            "text/plain": [
              "Index(['rowid', 'kepid', 'koi_disposition', 'koi_pdisposition', 'koi_score',\n",
              "       'koi_fpflag_ss', 'koi_fpflag_co', 'koi_period', 'koi_steff',\n",
              "       'koi_steff_err1', 'koi_steff_err2'],\n",
              "      dtype='object')"
            ]
          },
          "metadata": {
            "tags": []
          },
          "execution_count": 7
        }
      ]
    },
    {
      "cell_type": "markdown",
      "metadata": {
        "id": "4ljDlY5RruPs",
        "colab_type": "text"
      },
      "source": [
        "Premilinary analaysis"
      ]
    },
    {
      "cell_type": "code",
      "metadata": {
        "id": "5SOmwfFcpKlh",
        "colab_type": "code",
        "outputId": "aa81aaa5-954e-45e8-e442-4af114836ed1",
        "colab": {
          "base_uri": "https://localhost:8080/",
          "height": 34
        }
      },
      "source": [
        "si.shape"
      ],
      "execution_count": 0,
      "outputs": [
        {
          "output_type": "execute_result",
          "data": {
            "text/plain": [
              "(9564, 11)"
            ]
          },
          "metadata": {
            "tags": []
          },
          "execution_count": 8
        }
      ]
    },
    {
      "cell_type": "code",
      "metadata": {
        "id": "WCIz4-LJsAWN",
        "colab_type": "code",
        "outputId": "f89c5fa4-c101-41ea-ca16-e3572b7846ca",
        "colab": {
          "base_uri": "https://localhost:8080/",
          "height": 263
        }
      },
      "source": [
        "si.info"
      ],
      "execution_count": 0,
      "outputs": [
        {
          "output_type": "execute_result",
          "data": {
            "text/plain": [
              "<bound method DataFrame.info of       rowid     kepid  ... koi_steff_err1 koi_steff_err2\n",
              "0         1  10797460  ...           81.0          -81.0\n",
              "1         2  10797460  ...           81.0          -81.0\n",
              "2         3  10811496  ...          158.0         -176.0\n",
              "3         4  10848459  ...          157.0         -174.0\n",
              "4         5  10854555  ...          169.0         -211.0\n",
              "...     ...       ...  ...            ...            ...\n",
              "9559   9560  10031643  ...          169.0         -152.0\n",
              "9560   9561  10090151  ...          139.0         -166.0\n",
              "9561   9562  10128825  ...          165.0         -220.0\n",
              "9562   9563  10147276  ...          193.0         -236.0\n",
              "9563   9564  10156110  ...          158.0         -225.0\n",
              "\n",
              "[9564 rows x 11 columns]>"
            ]
          },
          "metadata": {
            "tags": []
          },
          "execution_count": 9
        }
      ]
    },
    {
      "cell_type": "code",
      "metadata": {
        "id": "4L9VFKXNsET4",
        "colab_type": "code",
        "outputId": "95063617-6524-4850-d50e-16e503ac7974",
        "colab": {
          "base_uri": "https://localhost:8080/",
          "height": 284
        }
      },
      "source": [
        "si.describe()"
      ],
      "execution_count": 0,
      "outputs": [
        {
          "output_type": "execute_result",
          "data": {
            "text/html": [
              "<div>\n",
              "<style scoped>\n",
              "    .dataframe tbody tr th:only-of-type {\n",
              "        vertical-align: middle;\n",
              "    }\n",
              "\n",
              "    .dataframe tbody tr th {\n",
              "        vertical-align: top;\n",
              "    }\n",
              "\n",
              "    .dataframe thead th {\n",
              "        text-align: right;\n",
              "    }\n",
              "</style>\n",
              "<table border=\"1\" class=\"dataframe\">\n",
              "  <thead>\n",
              "    <tr style=\"text-align: right;\">\n",
              "      <th></th>\n",
              "      <th>rowid</th>\n",
              "      <th>kepid</th>\n",
              "      <th>koi_score</th>\n",
              "      <th>koi_fpflag_ss</th>\n",
              "      <th>koi_fpflag_co</th>\n",
              "      <th>koi_period</th>\n",
              "      <th>koi_steff</th>\n",
              "      <th>koi_steff_err1</th>\n",
              "      <th>koi_steff_err2</th>\n",
              "    </tr>\n",
              "  </thead>\n",
              "  <tbody>\n",
              "    <tr>\n",
              "      <th>count</th>\n",
              "      <td>9564.000000</td>\n",
              "      <td>9.564000e+03</td>\n",
              "      <td>8054.000000</td>\n",
              "      <td>9564.000000</td>\n",
              "      <td>9564.000000</td>\n",
              "      <td>9564.000000</td>\n",
              "      <td>9201.000000</td>\n",
              "      <td>9096.000000</td>\n",
              "      <td>9081.000000</td>\n",
              "    </tr>\n",
              "    <tr>\n",
              "      <th>mean</th>\n",
              "      <td>4782.500000</td>\n",
              "      <td>7.690628e+06</td>\n",
              "      <td>0.480829</td>\n",
              "      <td>0.231598</td>\n",
              "      <td>0.194898</td>\n",
              "      <td>75.671358</td>\n",
              "      <td>5706.823280</td>\n",
              "      <td>144.635554</td>\n",
              "      <td>-162.265059</td>\n",
              "    </tr>\n",
              "    <tr>\n",
              "      <th>std</th>\n",
              "      <td>2761.033321</td>\n",
              "      <td>2.653459e+06</td>\n",
              "      <td>0.476928</td>\n",
              "      <td>0.421875</td>\n",
              "      <td>0.396143</td>\n",
              "      <td>1334.744046</td>\n",
              "      <td>796.857947</td>\n",
              "      <td>47.052305</td>\n",
              "      <td>72.746348</td>\n",
              "    </tr>\n",
              "    <tr>\n",
              "      <th>min</th>\n",
              "      <td>1.000000</td>\n",
              "      <td>7.574500e+05</td>\n",
              "      <td>0.000000</td>\n",
              "      <td>0.000000</td>\n",
              "      <td>0.000000</td>\n",
              "      <td>0.241843</td>\n",
              "      <td>2661.000000</td>\n",
              "      <td>0.000000</td>\n",
              "      <td>-1762.000000</td>\n",
              "    </tr>\n",
              "    <tr>\n",
              "      <th>25%</th>\n",
              "      <td>2391.750000</td>\n",
              "      <td>5.556034e+06</td>\n",
              "      <td>0.000000</td>\n",
              "      <td>0.000000</td>\n",
              "      <td>0.000000</td>\n",
              "      <td>2.733684</td>\n",
              "      <td>5310.000000</td>\n",
              "      <td>106.000000</td>\n",
              "      <td>-198.000000</td>\n",
              "    </tr>\n",
              "    <tr>\n",
              "      <th>50%</th>\n",
              "      <td>4782.500000</td>\n",
              "      <td>7.906892e+06</td>\n",
              "      <td>0.334000</td>\n",
              "      <td>0.000000</td>\n",
              "      <td>0.000000</td>\n",
              "      <td>9.752831</td>\n",
              "      <td>5767.000000</td>\n",
              "      <td>157.000000</td>\n",
              "      <td>-160.000000</td>\n",
              "    </tr>\n",
              "    <tr>\n",
              "      <th>75%</th>\n",
              "      <td>7173.250000</td>\n",
              "      <td>9.873066e+06</td>\n",
              "      <td>0.998000</td>\n",
              "      <td>0.000000</td>\n",
              "      <td>0.000000</td>\n",
              "      <td>40.715178</td>\n",
              "      <td>6112.000000</td>\n",
              "      <td>174.000000</td>\n",
              "      <td>-114.000000</td>\n",
              "    </tr>\n",
              "    <tr>\n",
              "      <th>max</th>\n",
              "      <td>9564.000000</td>\n",
              "      <td>1.293514e+07</td>\n",
              "      <td>1.000000</td>\n",
              "      <td>1.000000</td>\n",
              "      <td>1.000000</td>\n",
              "      <td>129995.778400</td>\n",
              "      <td>15896.000000</td>\n",
              "      <td>676.000000</td>\n",
              "      <td>0.000000</td>\n",
              "    </tr>\n",
              "  </tbody>\n",
              "</table>\n",
              "</div>"
            ],
            "text/plain": [
              "             rowid         kepid  ...  koi_steff_err1  koi_steff_err2\n",
              "count  9564.000000  9.564000e+03  ...     9096.000000     9081.000000\n",
              "mean   4782.500000  7.690628e+06  ...      144.635554     -162.265059\n",
              "std    2761.033321  2.653459e+06  ...       47.052305       72.746348\n",
              "min       1.000000  7.574500e+05  ...        0.000000    -1762.000000\n",
              "25%    2391.750000  5.556034e+06  ...      106.000000     -198.000000\n",
              "50%    4782.500000  7.906892e+06  ...      157.000000     -160.000000\n",
              "75%    7173.250000  9.873066e+06  ...      174.000000     -114.000000\n",
              "max    9564.000000  1.293514e+07  ...      676.000000        0.000000\n",
              "\n",
              "[8 rows x 9 columns]"
            ]
          },
          "metadata": {
            "tags": []
          },
          "execution_count": 10
        }
      ]
    },
    {
      "cell_type": "code",
      "metadata": {
        "id": "CYC0KDamsMId",
        "colab_type": "code",
        "colab": {}
      },
      "source": [
        "si=si.fillna(method='bfill')"
      ],
      "execution_count": 0,
      "outputs": []
    },
    {
      "cell_type": "code",
      "metadata": {
        "id": "TnrjUjqjsT3u",
        "colab_type": "code",
        "outputId": "f15690d7-751b-4494-e7cf-ea64aff5d6a8",
        "colab": {
          "base_uri": "https://localhost:8080/",
          "height": 228
        }
      },
      "source": [
        "si.dtypes"
      ],
      "execution_count": 0,
      "outputs": [
        {
          "output_type": "execute_result",
          "data": {
            "text/plain": [
              "rowid                 int64\n",
              "kepid                 int64\n",
              "koi_disposition      object\n",
              "koi_pdisposition     object\n",
              "koi_score           float64\n",
              "koi_fpflag_ss         int64\n",
              "koi_fpflag_co         int64\n",
              "koi_period          float64\n",
              "koi_steff           float64\n",
              "koi_steff_err1      float64\n",
              "koi_steff_err2      float64\n",
              "dtype: object"
            ]
          },
          "metadata": {
            "tags": []
          },
          "execution_count": 12
        }
      ]
    },
    {
      "cell_type": "code",
      "metadata": {
        "id": "6v4Kle7esZhK",
        "colab_type": "code",
        "colab": {}
      },
      "source": [
        "si[\"kepid\"]=si.kepid.astype(\"category\") "
      ],
      "execution_count": 0,
      "outputs": []
    },
    {
      "cell_type": "code",
      "metadata": {
        "id": "J8AvyFf-slOL",
        "colab_type": "code",
        "outputId": "b086618b-9828-4e74-fe42-941b63132952",
        "colab": {
          "base_uri": "https://localhost:8080/",
          "height": 228
        }
      },
      "source": [
        "si.dtypes"
      ],
      "execution_count": 0,
      "outputs": [
        {
          "output_type": "execute_result",
          "data": {
            "text/plain": [
              "rowid                  int64\n",
              "kepid               category\n",
              "koi_disposition       object\n",
              "koi_pdisposition      object\n",
              "koi_score            float64\n",
              "koi_fpflag_ss          int64\n",
              "koi_fpflag_co          int64\n",
              "koi_period           float64\n",
              "koi_steff            float64\n",
              "koi_steff_err1       float64\n",
              "koi_steff_err2       float64\n",
              "dtype: object"
            ]
          },
          "metadata": {
            "tags": []
          },
          "execution_count": 14
        }
      ]
    },
    {
      "cell_type": "code",
      "metadata": {
        "id": "EmskI9lRstBc",
        "colab_type": "code",
        "outputId": "7451852a-2888-4c87-d25d-85f92f9e9402",
        "colab": {
          "base_uri": "https://localhost:8080/",
          "height": 158
        }
      },
      "source": [
        "si.kepid.head()"
      ],
      "execution_count": 0,
      "outputs": [
        {
          "output_type": "execute_result",
          "data": {
            "text/plain": [
              "0    10797460\n",
              "1    10797460\n",
              "2    10811496\n",
              "3    10848459\n",
              "4    10854555\n",
              "Name: kepid, dtype: category\n",
              "Categories (8214, int64): [757450, 892772, 1025986, 1026032, ..., 12834874, 12835139, 12885212,\n",
              "                           12935144]"
            ]
          },
          "metadata": {
            "tags": []
          },
          "execution_count": 15
        }
      ]
    },
    {
      "cell_type": "code",
      "metadata": {
        "id": "OGWEzjIts1dX",
        "colab_type": "code",
        "outputId": "cc8a39ae-a319-4005-a102-4cad8919c2b2",
        "colab": {
          "base_uri": "https://localhost:8080/",
          "height": 193
        }
      },
      "source": [
        "si.var()"
      ],
      "execution_count": 0,
      "outputs": [
        {
          "output_type": "execute_result",
          "data": {
            "text/plain": [
              "rowid             7.623305e+06\n",
              "kepid             7.040845e+12\n",
              "koi_score         2.255479e-01\n",
              "koi_fpflag_ss     1.779788e-01\n",
              "koi_fpflag_co     1.569289e-01\n",
              "koi_period        1.781542e+06\n",
              "koi_steff         6.390750e+05\n",
              "koi_steff_err1    2.220756e+03\n",
              "koi_steff_err2    5.685123e+03\n",
              "dtype: float64"
            ]
          },
          "metadata": {
            "tags": []
          },
          "execution_count": 16
        }
      ]
    }
  ]
}